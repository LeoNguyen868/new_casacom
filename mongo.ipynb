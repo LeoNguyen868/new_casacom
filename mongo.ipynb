{
 "cells": [
  {
   "cell_type": "code",
   "execution_count": null,
   "id": "3367bf0b",
   "metadata": {},
   "outputs": [],
   "source": [
    "from pymongo import MongoClient\n",
    "client = MongoClient('mongodb://localhost:27017/')\n",
    "db=client['casacom']\n",
    "# db['maids'].drop()\n",
    "collection = db['maids']\n",
    "from envidence_mongo import EvidenceStore as EvidenceStoreMongo\n",
    "d=EvidenceStoreMongo()\n",
    "d.load_from_pickle('/home/hieu/Work/new_casacom/data/processed_mongo/__1TxI62aHPiUk7txktnoGVAmLbn8eja_sdW5GW17Mie3B_g0n78C8LBDA9_YTQ7.pkl')\n",
    "d.score_home(d.derive('f25ehbq'))\n",
    "d.maid\n",
    "import glob\n",
    "import pandas as pd\n",
    "files=glob.glob('/home/hieu/Work/new_casacom/data/processed_mongo/*')\n",
    "docs=[pd.read_pickle(open(f,'rb')) for f in files]\n",
    "from pymongo import UpdateOne\n",
    "ops=[]\n",
    "for d in docs:\n",
    "    ops.append(UpdateOne({'_id': d['maid']}, {'$set': d}, upsert=True))\n",
    "d=collection.bulk_write(ops)\n",
    "0.0001*1000000\n",
    "import time\n",
    "t1=time.time()\n",
    "c=collection.find_one({'_id': '++1TxI62aHPiUk7txktnoGVAmLbn8eja+sdW5GW17Mie3B/g0n78C8LBDA9/YTQ7'})\n",
    "t2=time.time()\n",
    "t2-t1\n",
    "\n",
    "c\n",
    "store=EvidenceStoreMongo()\n",
    "store.load_from_mongo(c)\n",
    "store.store.keys()\n",
    "store.score_home(store.derive('f25ehbq'))"
   ]
  },
  {
   "cell_type": "code",
   "execution_count": 9,
   "id": "9a46408a",
   "metadata": {},
   "outputs": [],
   "source": [
    "from pymongo import MongoClient\n",
    "client = MongoClient('mongodb://localhost:27017/')\n",
    "db=client['casacom']\n",
    "# db['maids'].drop()"
   ]
  },
  {
   "cell_type": "code",
   "execution_count": 10,
   "id": "266a4a8c",
   "metadata": {},
   "outputs": [
    {
     "data": {
      "text/plain": [
       "[]"
      ]
     },
     "execution_count": 10,
     "metadata": {},
     "output_type": "execute_result"
    }
   ],
   "source": [
    "db.list_collection_names()"
   ]
  },
  {
   "cell_type": "code",
   "execution_count": null,
   "id": "d123e669",
   "metadata": {},
   "outputs": [],
   "source": [
    "sudo apt-get install gnupg curl\n",
    "curl -fsSL https://www.mongodb.org/static/pgp/server-7.0.asc |   sudo gpg -o /usr/share/keyrings/mongodb-server-7.0.gpg   --dearmor\n",
    " echo \"deb [ arch=amd64,arm64 signed-by=/usr/share/keyrings/mongodb-server-7.0.gpg ] https://repo.mongodb.org/apt/ubuntu jammy/mongodb-org/7.0 multiverse\" | tee /etc/apt/sources.list.d/mongodb-org-7.0.list\n",
    " sudo apt-get update\n",
    " sudo apt-get install -y mongodb-org\n"
   ]
  },
  {
   "cell_type": "markdown",
   "id": "9b609a44",
   "metadata": {},
   "source": [
    "FILE_BATCH_SIZE=1 python3 process_maroc_mongo.py --start-date 2025-08-05 --end-date 2025-08-05"
   ]
  },
  {
   "cell_type": "markdown",
   "id": "591943a8",
   "metadata": {},
   "source": [
    "FILE_BATCH_SIZE=200 python3 process_maroc_all.py --start-date 2025-08-05 --end-date 2025-08-05"
   ]
  },
  {
   "cell_type": "code",
   "execution_count": 2,
   "id": "b25cc39a",
   "metadata": {},
   "outputs": [
    {
     "ename": "NameError",
     "evalue": "name 'MongoClient' is not defined",
     "output_type": "error",
     "traceback": [
      "\u001b[0;31m---------------------------------------------------------------------------\u001b[0m",
      "\u001b[0;31mNameError\u001b[0m                                 Traceback (most recent call last)",
      "Cell \u001b[0;32mIn[2], line 1\u001b[0m\n\u001b[0;32m----> 1\u001b[0m client \u001b[38;5;241m=\u001b[39m MongoClient(\u001b[38;5;124m'\u001b[39m\u001b[38;5;124mmongodb://localhost:27017/\u001b[39m\u001b[38;5;124m'\u001b[39m)\n\u001b[1;32m      2\u001b[0m db\u001b[38;5;241m=\u001b[39mclient[\u001b[38;5;124m'\u001b[39m\u001b[38;5;124mcasacom\u001b[39m\u001b[38;5;124m'\u001b[39m]\n\u001b[1;32m      3\u001b[0m \u001b[38;5;66;03m# db['maids'].drop()\u001b[39;00m\n",
      "\u001b[0;31mNameError\u001b[0m: name 'MongoClient' is not defined"
     ]
    }
   ],
   "source": [
    "from\n",
    "client = MongoClient('mongodb://localhost:27017/')\n",
    "db=client['casacom']\n",
    "# db['maids'].drop()\n",
    "collection = db['maids']"
   ]
  },
  {
   "cell_type": "code",
   "execution_count": null,
   "id": "1e3fcb13",
   "metadata": {},
   "outputs": [],
   "source": [
    "db"
   ]
  },
  {
   "cell_type": "code",
   "execution_count": 31,
   "id": "e0d8489a",
   "metadata": {},
   "outputs": [
    {
     "data": {
      "text/plain": [
       "{'store': {'f25ehbq': {'pings': 41,\n",
       "   'first_seen_ts': Timestamp('2025-07-30 00:23:10+0000', tz='UTC'),\n",
       "   'last_seen_ts': Timestamp('2025-07-30 00:28:56+0000', tz='UTC'),\n",
       "   'unique_days': {datetime.date(2025, 7, 30)},\n",
       "   'hourly_hist': [41,\n",
       "    0,\n",
       "    0,\n",
       "    0,\n",
       "    0,\n",
       "    0,\n",
       "    0,\n",
       "    0,\n",
       "    0,\n",
       "    0,\n",
       "    0,\n",
       "    0,\n",
       "    0,\n",
       "    0,\n",
       "    0,\n",
       "    0,\n",
       "    0,\n",
       "    0,\n",
       "    0,\n",
       "    0,\n",
       "    0,\n",
       "    0,\n",
       "    0,\n",
       "    0],\n",
       "   'weekday_hist': [0, 0, 41, 0, 0, 0, 0],\n",
       "   'hourly_hist_weekday': [41,\n",
       "    0,\n",
       "    0,\n",
       "    0,\n",
       "    0,\n",
       "    0,\n",
       "    0,\n",
       "    0,\n",
       "    0,\n",
       "    0,\n",
       "    0,\n",
       "    0,\n",
       "    0,\n",
       "    0,\n",
       "    0,\n",
       "    0,\n",
       "    0,\n",
       "    0,\n",
       "    0,\n",
       "    0,\n",
       "    0,\n",
       "    0,\n",
       "    0,\n",
       "    0],\n",
       "   'hourly_hist_weekend': [0,\n",
       "    0,\n",
       "    0,\n",
       "    0,\n",
       "    0,\n",
       "    0,\n",
       "    0,\n",
       "    0,\n",
       "    0,\n",
       "    0,\n",
       "    0,\n",
       "    0,\n",
       "    0,\n",
       "    0,\n",
       "    0,\n",
       "    0,\n",
       "    0,\n",
       "    0,\n",
       "    0,\n",
       "    0,\n",
       "    0,\n",
       "    0,\n",
       "    0,\n",
       "    0],\n",
       "   'monthly_hist': {'2025-07': 41},\n",
       "   'daily_flags': {739462: 8},\n",
       "   'max_seen_date': datetime.date(2025, 7, 30),\n",
       "   'gap_bins': {'0d': 0, '1-3d': 0, '4-7d': 0, '8-30d': 0, '>30d': 0},\n",
       "   'poi_info': None,\n",
       "   'poi_calculated': False,\n",
       "   'mean_geohash': 'f25ehbqycmje',\n",
       "   'std_geohash_m': 10.749405913724885,\n",
       "   'M2_geohash': 4737.5388274189645,\n",
       "   'mean_lat': 45.52990316413343,\n",
       "   'mean_lon': -73.61005386337638,\n",
       "   'hourly_minutes': {0: {'min': 23, 'max': 28}},\n",
       "   'est_duration': 5,\n",
       "   'flux_counts': {'B': 41, 'C': 0, 'D': 0, 'E': 0, 'F': 0},\n",
       "   'mean_time_diff_seconds': 10.176470588235293,\n",
       "   'total_time_diff_seconds': 346.0,\n",
       "   'time_diff_count': 34}},\n",
       " 'version': '1.0',\n",
       " 'created_at': '2025-10-13T20:01:57.987691',\n",
       " 'maid': '++1TxI62aHPiUk7txktnoGVAmLbn8eja+sdW5GW17Mie3B/g0n78C8LBDA9/YTQ7',\n",
       " 'total_pings': 41}"
      ]
     },
     "execution_count": 31,
     "metadata": {},
     "output_type": "execute_result"
    }
   ],
   "source": [
    "pd.read_pickle(open('/home/hieu/Work/new_casacom/data/processed_all/__1TxI62aHPiUk7txktnoGVAmLbn8eja_sdW5GW17Mie3B_g0n78C8LBDA9_YTQ7.pkl','rb'))"
   ]
  },
  {
   "cell_type": "code",
   "execution_count": 29,
   "id": "47226153",
   "metadata": {},
   "outputs": [
    {
     "data": {
      "text/plain": [
       "{'_id': '++1TxI62aHPiUk7txktnoGVAmLbn8eja+sdW5GW17Mie3B/g0n78C8LBDA9/YTQ7',\n",
       " 'created_at': '2025-10-13T20:13:30.761569',\n",
       " 'maid': '++1TxI62aHPiUk7txktnoGVAmLbn8eja+sdW5GW17Mie3B/g0n78C8LBDA9/YTQ7',\n",
       " 'store': {'f25ehbq': {'pings': 41,\n",
       "   'first_seen_ts': '2025-07-30T00:23:10+00:00',\n",
       "   'last_seen_ts': '2025-07-30T00:28:56+00:00',\n",
       "   'unique_days': ['2025-07-30'],\n",
       "   'hourly_hist': [41,\n",
       "    0,\n",
       "    0,\n",
       "    0,\n",
       "    0,\n",
       "    0,\n",
       "    0,\n",
       "    0,\n",
       "    0,\n",
       "    0,\n",
       "    0,\n",
       "    0,\n",
       "    0,\n",
       "    0,\n",
       "    0,\n",
       "    0,\n",
       "    0,\n",
       "    0,\n",
       "    0,\n",
       "    0,\n",
       "    0,\n",
       "    0,\n",
       "    0,\n",
       "    0],\n",
       "   'weekday_hist': [0, 0, 41, 0, 0, 0, 0],\n",
       "   'hourly_hist_weekday': [41,\n",
       "    0,\n",
       "    0,\n",
       "    0,\n",
       "    0,\n",
       "    0,\n",
       "    0,\n",
       "    0,\n",
       "    0,\n",
       "    0,\n",
       "    0,\n",
       "    0,\n",
       "    0,\n",
       "    0,\n",
       "    0,\n",
       "    0,\n",
       "    0,\n",
       "    0,\n",
       "    0,\n",
       "    0,\n",
       "    0,\n",
       "    0,\n",
       "    0,\n",
       "    0],\n",
       "   'hourly_hist_weekend': [0,\n",
       "    0,\n",
       "    0,\n",
       "    0,\n",
       "    0,\n",
       "    0,\n",
       "    0,\n",
       "    0,\n",
       "    0,\n",
       "    0,\n",
       "    0,\n",
       "    0,\n",
       "    0,\n",
       "    0,\n",
       "    0,\n",
       "    0,\n",
       "    0,\n",
       "    0,\n",
       "    0,\n",
       "    0,\n",
       "    0,\n",
       "    0,\n",
       "    0,\n",
       "    0],\n",
       "   'monthly_hist': {'2025-07': 41},\n",
       "   'daily_flags': {'2025-07-30': 8},\n",
       "   'max_seen_date': '2025-07-30',\n",
       "   'gap_bins': {'0d': 0, '1-3d': 0, '4-7d': 0, '8-30d': 0, '>30d': 0},\n",
       "   'poi_info': None,\n",
       "   'poi_calculated': False,\n",
       "   'mean_geohash': 'f25ehbqycmje',\n",
       "   'std_geohash_m': 10.749405913724885,\n",
       "   'M2_geohash': 4737.5388274189645,\n",
       "   'mean_lat': 45.52990316413343,\n",
       "   'mean_lon': -73.61005386337638,\n",
       "   'hourly_minutes': {'0': {'min': 23, 'max': 28}},\n",
       "   'est_duration': 5,\n",
       "   'flux_counts': {'B': 41, 'C': 0, 'D': 0, 'E': 0, 'F': 0},\n",
       "   'mean_time_diff_seconds': 10.176470588235293,\n",
       "   'total_time_diff_seconds': 346.0,\n",
       "   'time_diff_count': 34}},\n",
       " 'total_pings': 41,\n",
       " 'version': '2.0'}"
      ]
     },
     "execution_count": 29,
     "metadata": {},
     "output_type": "execute_result"
    }
   ],
   "source": [
    "collection.find_one({'_id': '++1TxI62aHPiUk7txktnoGVAmLbn8eja+sdW5GW17Mie3B/g0n78C8LBDA9/YTQ7'})"
   ]
  },
  {
   "cell_type": "code",
   "execution_count": null,
   "id": "f5dd2232",
   "metadata": {},
   "outputs": [],
   "source": [
    "from process_poi import load_maid\n",
    "load_maid(None, use_mongo=True, maid_id='++1TxI62aHPiUk7txktnoGVAmLbn8eja+sdW5GW17Mie3B/g0n78C8LBDA9/YTQ7')"
   ]
  }
 ],
 "metadata": {
  "kernelspec": {
   "display_name": "base",
   "language": "python",
   "name": "python3"
  },
  "language_info": {
   "codemirror_mode": {
    "name": "ipython",
    "version": 3
   },
   "file_extension": ".py",
   "mimetype": "text/x-python",
   "name": "python",
   "nbconvert_exporter": "python",
   "pygments_lexer": "ipython3",
   "version": "3.12.9"
  }
 },
 "nbformat": 4,
 "nbformat_minor": 5
}
