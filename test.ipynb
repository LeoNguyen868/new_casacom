{
 "cells": [
  {
   "cell_type": "code",
   "execution_count": 422,
   "id": "e6ce6052",
   "metadata": {},
   "outputs": [],
   "source": [
    "import duckdb\n",
    "conn=duckdb.connect()\n",
    "conn.execute(\"SET timezone='UTC'\")\n",
    "df=conn.query(\"\"\"\n",
    "select maid,timestamp,latitude,longitude,flux from read_parquet('./data/raw_rt/2025-08-05/*.parquet')\n",
    "\"\"\").df()"
   ]
  },
  {
   "cell_type": "code",
   "execution_count": 420,
   "id": "582a7f26",
   "metadata": {},
   "outputs": [],
   "source": [
    "import pygeohash as pgh\n",
    "from concurrent.futures import ProcessPoolExecutor\n",
    "import multiprocessing as mp\n",
    "from tqdm import tqdm\n",
    "\n",
    "# Helper function for parallel geohash encoding\n",
    "def encode_geohash_batch(args):\n",
    "    \"\"\"Encode a batch of lat/lon to geohash with given precision.\n",
    "    args is a tuple: (lat_list, lon_list, precision)\n",
    "    \"\"\"\n",
    "    lat_list, lon_list, precision = args\n",
    "    return [pgh.encode(latitude=lat, longitude=lon, precision=precision) for lat, lon in zip(lat_list, lon_list)]\n",
    "def geohash_encode(df,gh_batch_size=500000,gh_precision=7,gh_chunksize=10):\n",
    "    cpu_count = mp.cpu_count()\n",
    "    gh_workers = max(1, min(cpu_count, 96))\n",
    "    print(\"Encoding geohashes in parallel...\")\n",
    "    total_rows = len(df)\n",
    "    geohashes = []\n",
    "    # Prepare batch tasks\n",
    "    batch_args = []\n",
    "    for i in range(0, total_rows, gh_batch_size):\n",
    "        batch_end = min(i + gh_batch_size, total_rows)\n",
    "        print(f\"Geohash batch {i//gh_batch_size + 1}/{(total_rows-1)//gh_batch_size + 1} ({batch_end - i} rows)\")\n",
    "        # Slice as Python lists for cheaper pickling\n",
    "        batch_lat = df['latitude'].iloc[i:batch_end].tolist()\n",
    "        batch_lon = df['longitude'].iloc[i:batch_end].tolist()\n",
    "        batch_args.append((batch_lat, batch_lon, gh_precision))\n",
    "\n",
    "    if len(batch_args) == 1:\n",
    "        # Single batch: avoid process pool overhead\n",
    "        geohashes = encode_geohash_batch(batch_args[0])\n",
    "    else:\n",
    "        with ProcessPoolExecutor(max_workers=gh_workers) as gh_executor:\n",
    "            for result in tqdm(\n",
    "                gh_executor.map(encode_geohash_batch, batch_args, chunksize=gh_chunksize),\n",
    "                total=len(batch_args),\n",
    "                desc=f\"Geohash encoding\"\n",
    "            ):\n",
    "                geohashes.extend(result)\n",
    "\n",
    "    # Add geohashes to dataframe\n",
    "    df['geohash'] = geohashes\n",
    "    return df"
   ]
  },
  {
   "cell_type": "code",
   "execution_count": 423,
   "id": "ca8d961e",
   "metadata": {},
   "outputs": [
    {
     "name": "stdout",
     "output_type": "stream",
     "text": [
      "Encoding geohashes in parallel...\n",
      "Geohash batch 1/11 (500000 rows)\n",
      "Geohash batch 2/11 (500000 rows)\n",
      "Geohash batch 3/11 (500000 rows)\n",
      "Geohash batch 4/11 (500000 rows)\n",
      "Geohash batch 5/11 (500000 rows)\n",
      "Geohash batch 6/11 (500000 rows)\n",
      "Geohash batch 7/11 (500000 rows)\n",
      "Geohash batch 8/11 (500000 rows)\n",
      "Geohash batch 9/11 (500000 rows)\n",
      "Geohash batch 10/11 (500000 rows)\n",
      "Geohash batch 11/11 (429854 rows)\n"
     ]
    },
    {
     "name": "stderr",
     "output_type": "stream",
     "text": [
      "Geohash encoding: 100%|██████████| 11/11 [00:08<00:00,  1.30it/s]\n"
     ]
    }
   ],
   "source": [
    "df=geohash_encode(df,gh_precision=12)"
   ]
  },
  {
   "cell_type": "code",
   "execution_count": 614,
   "id": "a555b9dd",
   "metadata": {},
   "outputs": [],
   "source": [
    "cc=df.groupby('maid').size().sort_values(ascending=False).to_frame().reset_index()"
   ]
  },
  {
   "cell_type": "code",
   "execution_count": null,
   "id": "0e8d23f7",
   "metadata": {},
   "outputs": [
    {
     "name": "stderr",
     "output_type": "stream",
     "text": [
      "/tmp/ipykernel_68233/1780402407.py:4: SettingWithCopyWarning:\n",
      "\n",
      "\n",
      "A value is trying to be set on a copy of a slice from a DataFrame.\n",
      "Try using .loc[row_indexer,col_indexer] = value instead\n",
      "\n",
      "See the caveats in the documentation: https://pandas.pydata.org/pandas-docs/stable/user_guide/indexing.html#returning-a-view-versus-a-copy\n",
      "\n",
      "/tmp/ipykernel_68233/1780402407.py:5: SettingWithCopyWarning:\n",
      "\n",
      "\n",
      "A value is trying to be set on a copy of a slice from a DataFrame.\n",
      "Try using .loc[row_indexer,col_indexer] = value instead\n",
      "\n",
      "See the caveats in the documentation: https://pandas.pydata.org/pandas-docs/stable/user_guide/indexing.html#returning-a-view-versus-a-copy\n",
      "\n"
     ]
    }
   ],
   "source": []
  },
  {
   "cell_type": "code",
   "execution_count": 642,
   "id": "de685c1d",
   "metadata": {},
   "outputs": [
    {
     "name": "stderr",
     "output_type": "stream",
     "text": [
      "/tmp/ipykernel_68233/4148897250.py:4: SettingWithCopyWarning:\n",
      "\n",
      "\n",
      "A value is trying to be set on a copy of a slice from a DataFrame.\n",
      "Try using .loc[row_indexer,col_indexer] = value instead\n",
      "\n",
      "See the caveats in the documentation: https://pandas.pydata.org/pandas-docs/stable/user_guide/indexing.html#returning-a-view-versus-a-copy\n",
      "\n",
      "/tmp/ipykernel_68233/4148897250.py:5: SettingWithCopyWarning:\n",
      "\n",
      "\n",
      "A value is trying to be set on a copy of a slice from a DataFrame.\n",
      "Try using .loc[row_indexer,col_indexer] = value instead\n",
      "\n",
      "See the caveats in the documentation: https://pandas.pydata.org/pandas-docs/stable/user_guide/indexing.html#returning-a-view-versus-a-copy\n",
      "\n",
      "/tmp/ipykernel_68233/4148897250.py:25: DeprecationWarning:\n",
      "\n",
      "*scattermapbox* is deprecated! Use *scattermap* instead. Learn more at: https://plotly.com/python/mapbox-to-maplibre/\n",
      "\n",
      "/tmp/ipykernel_68233/4148897250.py:42: DeprecationWarning:\n",
      "\n",
      "*scattermapbox* is deprecated! Use *scattermap* instead. Learn more at: https://plotly.com/python/mapbox-to-maplibre/\n",
      "\n"
     ]
    },
    {
     "data": {
      "application/vnd.plotly.v1+json": {
       "config": {
        "plotlyServerURL": "https://plot.ly"
       },
       "data": [
        {
         "customdata": [],
         "hovertemplate": "geohash: %{customdata[0]}<br>count: %{customdata[1]}<br>std_gh: %{customdata[2]}<br><extra></extra>",
         "lat": [],
         "lon": [],
         "marker": {
          "size": 8
         },
         "mode": "markers",
         "name": "cluster",
         "type": "scattermapbox"
        },
        {
         "customdata": [
          [
           "ev3jj9wdur9h",
           "2025-07-29T14:16:14+00:00"
          ],
          [
           "ev3jj9weh3c0",
           "2025-07-29T13:42:15+00:00"
          ],
          [
           "ev3jj9wej1b0",
           "2025-07-29T13:11:23+00:00"
          ],
          [
           "ev3jj9wejj24",
           "2025-07-29T13:11:18+00:00"
          ],
          [
           "ev3jj9wehv24",
           "2025-07-29T14:16:25+00:00"
          ],
          [
           "ev3jj9weh791",
           "2025-07-29T13:01:25+00:00"
          ],
          [
           "ev3jj9wduz8h",
           "2025-07-29T13:12:00+00:00"
          ],
          [
           "ev3jj9wdvp8h",
           "2025-07-29T13:12:53+00:00"
          ]
         ],
         "hovertemplate": "geohash: %{customdata[0]}<br>timestamp: %{customdata[1]}<br><extra></extra>",
         "lat": {
          "bdata": "AAAAoD1rPkAAAABgPms+QAAAAGA+az5AAAAAoD9rPkAAAACgP2s+QAAAAAA/az5AAAAAoD1rPkAAAACgPWs+QA==",
          "dtype": "f8"
         },
         "lon": {
          "bdata": "AAAA4JUvI8AAAADglS8jwAAAAOCRLyPAAAAA4JEvI8AAAABAky8jwAAAAOCVLyPAAAAAQJMvI8AAAADgkS8jwA==",
          "dtype": "f8"
         },
         "marker": {
          "color": "red",
          "size": 8
         },
         "mode": "markers",
         "name": "path",
         "type": "scattermapbox"
        }
       ],
       "layout": {
        "height": 600,
        "mapbox": {
         "center": {
          "lat": 30.418924861484104,
          "lon": -9.592924038569134
         },
         "style": "open-street-map",
         "zoom": 12
        },
        "template": {
         "data": {
          "bar": [
           {
            "error_x": {
             "color": "#2a3f5f"
            },
            "error_y": {
             "color": "#2a3f5f"
            },
            "marker": {
             "line": {
              "color": "#E5ECF6",
              "width": 0.5
             },
             "pattern": {
              "fillmode": "overlay",
              "size": 10,
              "solidity": 0.2
             }
            },
            "type": "bar"
           }
          ],
          "barpolar": [
           {
            "marker": {
             "line": {
              "color": "#E5ECF6",
              "width": 0.5
             },
             "pattern": {
              "fillmode": "overlay",
              "size": 10,
              "solidity": 0.2
             }
            },
            "type": "barpolar"
           }
          ],
          "carpet": [
           {
            "aaxis": {
             "endlinecolor": "#2a3f5f",
             "gridcolor": "white",
             "linecolor": "white",
             "minorgridcolor": "white",
             "startlinecolor": "#2a3f5f"
            },
            "baxis": {
             "endlinecolor": "#2a3f5f",
             "gridcolor": "white",
             "linecolor": "white",
             "minorgridcolor": "white",
             "startlinecolor": "#2a3f5f"
            },
            "type": "carpet"
           }
          ],
          "choropleth": [
           {
            "colorbar": {
             "outlinewidth": 0,
             "ticks": ""
            },
            "type": "choropleth"
           }
          ],
          "contour": [
           {
            "colorbar": {
             "outlinewidth": 0,
             "ticks": ""
            },
            "colorscale": [
             [
              0,
              "#0d0887"
             ],
             [
              0.1111111111111111,
              "#46039f"
             ],
             [
              0.2222222222222222,
              "#7201a8"
             ],
             [
              0.3333333333333333,
              "#9c179e"
             ],
             [
              0.4444444444444444,
              "#bd3786"
             ],
             [
              0.5555555555555556,
              "#d8576b"
             ],
             [
              0.6666666666666666,
              "#ed7953"
             ],
             [
              0.7777777777777778,
              "#fb9f3a"
             ],
             [
              0.8888888888888888,
              "#fdca26"
             ],
             [
              1,
              "#f0f921"
             ]
            ],
            "type": "contour"
           }
          ],
          "contourcarpet": [
           {
            "colorbar": {
             "outlinewidth": 0,
             "ticks": ""
            },
            "type": "contourcarpet"
           }
          ],
          "heatmap": [
           {
            "colorbar": {
             "outlinewidth": 0,
             "ticks": ""
            },
            "colorscale": [
             [
              0,
              "#0d0887"
             ],
             [
              0.1111111111111111,
              "#46039f"
             ],
             [
              0.2222222222222222,
              "#7201a8"
             ],
             [
              0.3333333333333333,
              "#9c179e"
             ],
             [
              0.4444444444444444,
              "#bd3786"
             ],
             [
              0.5555555555555556,
              "#d8576b"
             ],
             [
              0.6666666666666666,
              "#ed7953"
             ],
             [
              0.7777777777777778,
              "#fb9f3a"
             ],
             [
              0.8888888888888888,
              "#fdca26"
             ],
             [
              1,
              "#f0f921"
             ]
            ],
            "type": "heatmap"
           }
          ],
          "histogram": [
           {
            "marker": {
             "pattern": {
              "fillmode": "overlay",
              "size": 10,
              "solidity": 0.2
             }
            },
            "type": "histogram"
           }
          ],
          "histogram2d": [
           {
            "colorbar": {
             "outlinewidth": 0,
             "ticks": ""
            },
            "colorscale": [
             [
              0,
              "#0d0887"
             ],
             [
              0.1111111111111111,
              "#46039f"
             ],
             [
              0.2222222222222222,
              "#7201a8"
             ],
             [
              0.3333333333333333,
              "#9c179e"
             ],
             [
              0.4444444444444444,
              "#bd3786"
             ],
             [
              0.5555555555555556,
              "#d8576b"
             ],
             [
              0.6666666666666666,
              "#ed7953"
             ],
             [
              0.7777777777777778,
              "#fb9f3a"
             ],
             [
              0.8888888888888888,
              "#fdca26"
             ],
             [
              1,
              "#f0f921"
             ]
            ],
            "type": "histogram2d"
           }
          ],
          "histogram2dcontour": [
           {
            "colorbar": {
             "outlinewidth": 0,
             "ticks": ""
            },
            "colorscale": [
             [
              0,
              "#0d0887"
             ],
             [
              0.1111111111111111,
              "#46039f"
             ],
             [
              0.2222222222222222,
              "#7201a8"
             ],
             [
              0.3333333333333333,
              "#9c179e"
             ],
             [
              0.4444444444444444,
              "#bd3786"
             ],
             [
              0.5555555555555556,
              "#d8576b"
             ],
             [
              0.6666666666666666,
              "#ed7953"
             ],
             [
              0.7777777777777778,
              "#fb9f3a"
             ],
             [
              0.8888888888888888,
              "#fdca26"
             ],
             [
              1,
              "#f0f921"
             ]
            ],
            "type": "histogram2dcontour"
           }
          ],
          "mesh3d": [
           {
            "colorbar": {
             "outlinewidth": 0,
             "ticks": ""
            },
            "type": "mesh3d"
           }
          ],
          "parcoords": [
           {
            "line": {
             "colorbar": {
              "outlinewidth": 0,
              "ticks": ""
             }
            },
            "type": "parcoords"
           }
          ],
          "pie": [
           {
            "automargin": true,
            "type": "pie"
           }
          ],
          "scatter": [
           {
            "fillpattern": {
             "fillmode": "overlay",
             "size": 10,
             "solidity": 0.2
            },
            "type": "scatter"
           }
          ],
          "scatter3d": [
           {
            "line": {
             "colorbar": {
              "outlinewidth": 0,
              "ticks": ""
             }
            },
            "marker": {
             "colorbar": {
              "outlinewidth": 0,
              "ticks": ""
             }
            },
            "type": "scatter3d"
           }
          ],
          "scattercarpet": [
           {
            "marker": {
             "colorbar": {
              "outlinewidth": 0,
              "ticks": ""
             }
            },
            "type": "scattercarpet"
           }
          ],
          "scattergeo": [
           {
            "marker": {
             "colorbar": {
              "outlinewidth": 0,
              "ticks": ""
             }
            },
            "type": "scattergeo"
           }
          ],
          "scattergl": [
           {
            "marker": {
             "colorbar": {
              "outlinewidth": 0,
              "ticks": ""
             }
            },
            "type": "scattergl"
           }
          ],
          "scattermap": [
           {
            "marker": {
             "colorbar": {
              "outlinewidth": 0,
              "ticks": ""
             }
            },
            "type": "scattermap"
           }
          ],
          "scattermapbox": [
           {
            "marker": {
             "colorbar": {
              "outlinewidth": 0,
              "ticks": ""
             }
            },
            "type": "scattermapbox"
           }
          ],
          "scatterpolar": [
           {
            "marker": {
             "colorbar": {
              "outlinewidth": 0,
              "ticks": ""
             }
            },
            "type": "scatterpolar"
           }
          ],
          "scatterpolargl": [
           {
            "marker": {
             "colorbar": {
              "outlinewidth": 0,
              "ticks": ""
             }
            },
            "type": "scatterpolargl"
           }
          ],
          "scatterternary": [
           {
            "marker": {
             "colorbar": {
              "outlinewidth": 0,
              "ticks": ""
             }
            },
            "type": "scatterternary"
           }
          ],
          "surface": [
           {
            "colorbar": {
             "outlinewidth": 0,
             "ticks": ""
            },
            "colorscale": [
             [
              0,
              "#0d0887"
             ],
             [
              0.1111111111111111,
              "#46039f"
             ],
             [
              0.2222222222222222,
              "#7201a8"
             ],
             [
              0.3333333333333333,
              "#9c179e"
             ],
             [
              0.4444444444444444,
              "#bd3786"
             ],
             [
              0.5555555555555556,
              "#d8576b"
             ],
             [
              0.6666666666666666,
              "#ed7953"
             ],
             [
              0.7777777777777778,
              "#fb9f3a"
             ],
             [
              0.8888888888888888,
              "#fdca26"
             ],
             [
              1,
              "#f0f921"
             ]
            ],
            "type": "surface"
           }
          ],
          "table": [
           {
            "cells": {
             "fill": {
              "color": "#EBF0F8"
             },
             "line": {
              "color": "white"
             }
            },
            "header": {
             "fill": {
              "color": "#C8D4E3"
             },
             "line": {
              "color": "white"
             }
            },
            "type": "table"
           }
          ]
         },
         "layout": {
          "annotationdefaults": {
           "arrowcolor": "#2a3f5f",
           "arrowhead": 0,
           "arrowwidth": 1
          },
          "autotypenumbers": "strict",
          "coloraxis": {
           "colorbar": {
            "outlinewidth": 0,
            "ticks": ""
           }
          },
          "colorscale": {
           "diverging": [
            [
             0,
             "#8e0152"
            ],
            [
             0.1,
             "#c51b7d"
            ],
            [
             0.2,
             "#de77ae"
            ],
            [
             0.3,
             "#f1b6da"
            ],
            [
             0.4,
             "#fde0ef"
            ],
            [
             0.5,
             "#f7f7f7"
            ],
            [
             0.6,
             "#e6f5d0"
            ],
            [
             0.7,
             "#b8e186"
            ],
            [
             0.8,
             "#7fbc41"
            ],
            [
             0.9,
             "#4d9221"
            ],
            [
             1,
             "#276419"
            ]
           ],
           "sequential": [
            [
             0,
             "#0d0887"
            ],
            [
             0.1111111111111111,
             "#46039f"
            ],
            [
             0.2222222222222222,
             "#7201a8"
            ],
            [
             0.3333333333333333,
             "#9c179e"
            ],
            [
             0.4444444444444444,
             "#bd3786"
            ],
            [
             0.5555555555555556,
             "#d8576b"
            ],
            [
             0.6666666666666666,
             "#ed7953"
            ],
            [
             0.7777777777777778,
             "#fb9f3a"
            ],
            [
             0.8888888888888888,
             "#fdca26"
            ],
            [
             1,
             "#f0f921"
            ]
           ],
           "sequentialminus": [
            [
             0,
             "#0d0887"
            ],
            [
             0.1111111111111111,
             "#46039f"
            ],
            [
             0.2222222222222222,
             "#7201a8"
            ],
            [
             0.3333333333333333,
             "#9c179e"
            ],
            [
             0.4444444444444444,
             "#bd3786"
            ],
            [
             0.5555555555555556,
             "#d8576b"
            ],
            [
             0.6666666666666666,
             "#ed7953"
            ],
            [
             0.7777777777777778,
             "#fb9f3a"
            ],
            [
             0.8888888888888888,
             "#fdca26"
            ],
            [
             1,
             "#f0f921"
            ]
           ]
          },
          "colorway": [
           "#636efa",
           "#EF553B",
           "#00cc96",
           "#ab63fa",
           "#FFA15A",
           "#19d3f3",
           "#FF6692",
           "#B6E880",
           "#FF97FF",
           "#FECB52"
          ],
          "font": {
           "color": "#2a3f5f"
          },
          "geo": {
           "bgcolor": "white",
           "lakecolor": "white",
           "landcolor": "#E5ECF6",
           "showlakes": true,
           "showland": true,
           "subunitcolor": "white"
          },
          "hoverlabel": {
           "align": "left"
          },
          "hovermode": "closest",
          "mapbox": {
           "style": "light"
          },
          "paper_bgcolor": "white",
          "plot_bgcolor": "#E5ECF6",
          "polar": {
           "angularaxis": {
            "gridcolor": "white",
            "linecolor": "white",
            "ticks": ""
           },
           "bgcolor": "#E5ECF6",
           "radialaxis": {
            "gridcolor": "white",
            "linecolor": "white",
            "ticks": ""
           }
          },
          "scene": {
           "xaxis": {
            "backgroundcolor": "#E5ECF6",
            "gridcolor": "white",
            "gridwidth": 2,
            "linecolor": "white",
            "showbackground": true,
            "ticks": "",
            "zerolinecolor": "white"
           },
           "yaxis": {
            "backgroundcolor": "#E5ECF6",
            "gridcolor": "white",
            "gridwidth": 2,
            "linecolor": "white",
            "showbackground": true,
            "ticks": "",
            "zerolinecolor": "white"
           },
           "zaxis": {
            "backgroundcolor": "#E5ECF6",
            "gridcolor": "white",
            "gridwidth": 2,
            "linecolor": "white",
            "showbackground": true,
            "ticks": "",
            "zerolinecolor": "white"
           }
          },
          "shapedefaults": {
           "line": {
            "color": "#2a3f5f"
           }
          },
          "ternary": {
           "aaxis": {
            "gridcolor": "white",
            "linecolor": "white",
            "ticks": ""
           },
           "baxis": {
            "gridcolor": "white",
            "linecolor": "white",
            "ticks": ""
           },
           "bgcolor": "#E5ECF6",
           "caxis": {
            "gridcolor": "white",
            "linecolor": "white",
            "ticks": ""
           }
          },
          "title": {
           "x": 0.05
          },
          "xaxis": {
           "automargin": true,
           "gridcolor": "white",
           "linecolor": "white",
           "ticks": "",
           "title": {
            "standoff": 15
           },
           "zerolinecolor": "white",
           "zerolinewidth": 2
          },
          "yaxis": {
           "automargin": true,
           "gridcolor": "white",
           "linecolor": "white",
           "ticks": "",
           "title": {
            "standoff": 15
           },
           "zerolinecolor": "white",
           "zerolinewidth": 2
          }
         }
        }
       }
      }
     },
     "metadata": {},
     "output_type": "display_data"
    },
    {
     "data": {
      "text/html": [
       "<div>\n",
       "<style scoped>\n",
       "    .dataframe tbody tr th:only-of-type {\n",
       "        vertical-align: middle;\n",
       "    }\n",
       "\n",
       "    .dataframe tbody tr th {\n",
       "        vertical-align: top;\n",
       "    }\n",
       "\n",
       "    .dataframe thead th {\n",
       "        text-align: right;\n",
       "    }\n",
       "</style>\n",
       "<table border=\"1\" class=\"dataframe\">\n",
       "  <thead>\n",
       "    <tr style=\"text-align: right;\">\n",
       "      <th></th>\n",
       "      <th>date</th>\n",
       "      <th>hour</th>\n",
       "      <th>std_gh</th>\n",
       "      <th>geohash</th>\n",
       "      <th>count</th>\n",
       "      <th>lat</th>\n",
       "      <th>lon</th>\n",
       "    </tr>\n",
       "  </thead>\n",
       "  <tbody>\n",
       "  </tbody>\n",
       "</table>\n",
       "</div>"
      ],
      "text/plain": [
       "Empty DataFrame\n",
       "Columns: [date, hour, std_gh, geohash, count, lat, lon]\n",
       "Index: []"
      ]
     },
     "execution_count": 642,
     "metadata": {},
     "output_type": "execute_result"
    }
   ],
   "source": [
    "import pandas as pd\n",
    "id=54321\n",
    "sample_maid=df[df.maid==cc.maid.iloc[id]]\n",
    "sample_maid.loc[:, 'date'] = sample_maid.timestamp.dt.date.astype(str)\n",
    "sample_maid.loc[:, 'hour'] = sample_maid.timestamp.dt.hour.astype(int)\n",
    "dk=sample_maid.groupby('geohash')['geohash'].transform('count') > 1\n",
    "duplicates=sample_maid.loc[dk]\n",
    "notduplicates=sample_maid.loc[~dk]\n",
    "\n",
    "grouped_dup=sample_maid.groupby(['date','hour']).agg(\n",
    "    std_gh=('geohash',lambda x: pgh.std(x.tolist())),\n",
    "    geohash=('geohash',lambda x: pgh.mean(x.tolist())),\n",
    "    count=('geohash',lambda x: x.nunique()),\n",
    "    lat=('latitude',lambda x: x.mean()),\n",
    "    lon=('longitude',lambda x: x.mean())\n",
    ").reset_index()\n",
    "\n",
    "import plotly.graph_objects as go\n",
    "\n",
    "# Create figure\n",
    "fig = go.Figure()\n",
    "\n",
    "# Add pingsink points (default blue)\n",
    "pingsink_data = grouped_dup.loc[(grouped_dup['count']>20) & (grouped_dup['std_gh']<5)]\n",
    "fig.add_trace(go.Scattermapbox(\n",
    "    lat=pingsink_data['lat'],\n",
    "    lon=pingsink_data['lon'],\n",
    "    mode='markers',\n",
    "    marker=dict(size=8),\n",
    "    name='cluster',\n",
    "    hovertemplate='<br>'.join([\n",
    "        'geohash: %{customdata[0]}',\n",
    "        'count: %{customdata[1]}',\n",
    "        'std_gh: %{customdata[2]}',\n",
    "        '<extra></extra>'\n",
    "    ]),\n",
    "    customdata=pingsink_data[['geohash','count','std_gh']].values\n",
    "))\n",
    "\n",
    "# Add normal points (red)\n",
    "normal_data = sample_maid.drop_duplicates(subset=['geohash'])\n",
    "fig.add_trace(go.Scattermapbox(\n",
    "    lat=normal_data['latitude'],\n",
    "    lon=normal_data['longitude'],\n",
    "    mode='markers',\n",
    "    marker=dict(size=8, color='red'),\n",
    "    name='path',\n",
    "    hovertemplate='<br>'.join([\n",
    "        'geohash: %{customdata[0]}',\n",
    "        'timestamp: %{customdata[1]}',\n",
    "        '<extra></extra>'\n",
    "    ]),\n",
    "    customdata=normal_data[['geohash', 'timestamp']].values\n",
    "))\n",
    "fig.update_layout(\n",
    "    mapbox_style=\"open-street-map\",\n",
    "    mapbox=dict(\n",
    "        center=dict(\n",
    "            lat=grouped_dup['lat'].mean(),\n",
    "            lon=grouped_dup['lon'].mean()\n",
    "        ),\n",
    "        zoom=12\n",
    "    ),\n",
    "    height=600\n",
    ")\n",
    "fig.show()\n",
    "pingsink_data"
   ]
  }
 ],
 "metadata": {
  "kernelspec": {
   "display_name": "base",
   "language": "python",
   "name": "python3"
  },
  "language_info": {
   "codemirror_mode": {
    "name": "ipython",
    "version": 3
   },
   "file_extension": ".py",
   "mimetype": "text/x-python",
   "name": "python",
   "nbconvert_exporter": "python",
   "pygments_lexer": "ipython3",
   "version": "3.12.9"
  }
 },
 "nbformat": 4,
 "nbformat_minor": 5
}
